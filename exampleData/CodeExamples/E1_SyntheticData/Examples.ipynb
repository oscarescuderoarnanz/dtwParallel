{
 "cells": [
  {
   "cell_type": "code",
   "execution_count": null,
   "id": "425655e4",
   "metadata": {},
   "outputs": [],
   "source": [
    "from dtwParallel import dtw_functions\n",
    "from scipy.spatial import distance as d\n",
    "import numpy as np"
   ]
  },
  {
   "cell_type": "markdown",
   "id": "1f6891b1",
   "metadata": {},
   "source": [
    "# Example 1"
   ]
  },
  {
   "cell_type": "code",
   "execution_count": null,
   "id": "e2e63811",
   "metadata": {},
   "outputs": [],
   "source": [
    "from dtwParallel import dtw_functions\n",
    "from scipy.spatial import distance as d\n",
    "\n",
    "# For Univariate Time Series\n",
    "x = [1,2,3]\n",
    "y = [0,0,1]\n",
    "\n",
    "dtw_functions.dtw(x,y,local_dissimilarity=d.euclidean)"
   ]
  },
  {
   "cell_type": "code",
   "execution_count": null,
   "id": "55b1ba60",
   "metadata": {},
   "outputs": [],
   "source": [
    "from dtwParallel import dtw_functions\n",
    "from scipy.spatial import distance as d\n",
    "\n",
    "# For Univariate Time Series\n",
    "x = [1,2,3,3,4,5,6,7]\n",
    "y = [0,1,5,7,1,8,1,4]\n",
    "\n",
    "dtw_functions.dtw(x,y,local_dissimilarity=\"norm1\")\n"
   ]
  },
  {
   "cell_type": "code",
   "execution_count": null,
   "id": "aa8c4dfd",
   "metadata": {},
   "outputs": [],
   "source": [
    "from dtwParallel import dtw_functions\n",
    "from scipy.spatial import distance as d\n",
    "\n",
    "# For Univariate Time Series\n",
    "x = [1,2,3,3,4,5,6,7]\n",
    "y = [0,1,5,7,1,8,1,4]\n",
    "\n",
    "dtw_functions.dtw(x,y,local_dissimilarity=d.euclidean)\n"
   ]
  },
  {
   "cell_type": "code",
   "execution_count": null,
   "id": "e140b0d4",
   "metadata": {},
   "outputs": [],
   "source": [
    "import pandas as pd\n",
    "import numpy as np\n",
    "from dtwParallel import dtw_functions \n",
    "\n",
    "# Use of dataframes with 1D (UTS) as entry data\n",
    "x = pd.DataFrame(np.random.randint(0,10, size=(1,8)))\n",
    "y = pd.DataFrame(np.random.randint(0,10, size=(1,8)))\n",
    "dtw_functions.dtw(x, y, n_threads=8)"
   ]
  },
  {
   "cell_type": "code",
   "execution_count": null,
   "id": "10600dc6",
   "metadata": {},
   "outputs": [],
   "source": [
    "import pandas as pd\n",
    "import numpy as np\n",
    "from dtwParallel import dtw_functions \n",
    "\n",
    "# Use of dataframes with 2D (MTS) as entry data\n",
    "x = pd.DataFrame([np.random.randn(10), np.random.randn(10)])\n",
    "y = pd.DataFrame([np.random.randn(10), np.random.randn(10)])\n",
    "dtw_functions.dtw(x, y, MTS=True, n_threads=8)"
   ]
  },
  {
   "cell_type": "code",
   "execution_count": null,
   "id": "09580315",
   "metadata": {},
   "outputs": [],
   "source": [
    "import pandas as pd \n",
    "import numpy as np\n",
    "from dtwParallel import dtw_functions \n",
    "\n",
    "# Use of dataframes with 1D (UTS) as entry data\n",
    "x = pd.DataFrame(np.random.randn(10)).T\n",
    "y = pd.DataFrame(np.random.randn(10)).T\n",
    "\n",
    "dtw_functions.dtw(x,y,n_threads=8)"
   ]
  },
  {
   "cell_type": "code",
   "execution_count": null,
   "id": "0118922b",
   "metadata": {},
   "outputs": [],
   "source": [
    "import pandas as pd\n",
    "import numpy as np\n",
    "from dtwParallel import dtw_functions \n",
    "\n",
    "# Use of pd.Seres as entry data\n",
    "x = pd.Series(np.random.randn(10))\n",
    "y = pd.Series(np.random.randn(10))\n",
    "\n",
    "dtw_functions.dtw(x,y,local_dissimilarity=\"norm2\")"
   ]
  },
  {
   "cell_type": "markdown",
   "id": "1e024d84",
   "metadata": {},
   "source": [
    "# Example 2"
   ]
  },
  {
   "cell_type": "code",
   "execution_count": null,
   "id": "654653ea",
   "metadata": {},
   "outputs": [],
   "source": [
    "from dtwParallel import dtw_functions\n",
    "from scipy.spatial import distance as d\n",
    "\n",
    "# For Univariate Time Series\n",
    "x = [1,2,3,5,8,9,5,4,2]\n",
    "y = [1,0,1,0,1,1]\n",
    "\n",
    "dtw_functions.dtw(x, y, local_dissimilarity=d.euclidean)"
   ]
  },
  {
   "cell_type": "code",
   "execution_count": null,
   "id": "f311a446",
   "metadata": {},
   "outputs": [],
   "source": [
    "from dtwParallel import dtw_functions\n",
    "from scipy.spatial import distance as d\n",
    "\n",
    "# For Univariate Time Series\n",
    "x = [1,2,3,5,8,9,5,4,2]\n",
    "y = [1,0,1,0,1,1]\n",
    "\n",
    "np.sqrt(dtw_functions.dtw(x, y, type_dtw=\"sakoe_chiba\",local_dissimilarity=\"square_euclidean_distance\"))"
   ]
  },
  {
   "cell_type": "code",
   "execution_count": null,
   "id": "84b39504",
   "metadata": {},
   "outputs": [],
   "source": [
    "from tslearn.metrics import dtw\n",
    "dtw(x,y,global_constraint=\"sakoe_chiba\")"
   ]
  },
  {
   "cell_type": "markdown",
   "id": "7a0fb035",
   "metadata": {},
   "source": [
    "# Example 3"
   ]
  },
  {
   "cell_type": "code",
   "execution_count": null,
   "id": "733f7128",
   "metadata": {
    "scrolled": false
   },
   "outputs": [],
   "source": [
    "from dtwParallel import dtw_functions\n",
    "from scipy.spatial import distance as d\n",
    "\n",
    "# For Univariate Time Series\n",
    "x = [4,2,8,4,5]\n",
    "y = [0,1,0,8,9]\n",
    "\n",
    "dtw_functions.dtw(x, y, local_dissimilarity=d.euclidean, get_visualization=True)"
   ]
  },
  {
   "cell_type": "code",
   "execution_count": null,
   "id": "1099e225",
   "metadata": {
    "scrolled": false
   },
   "outputs": [],
   "source": [
    "from dtwParallel import dtw_functions\n",
    "from scipy.spatial import distance as d\n",
    "\n",
    "# For Univariate Time Series\n",
    "x = [4,2,8,4,5,1,3,5,2,5,7,8,4,5,6,7]\n",
    "y = [0,1,0,8,9,1,3,2,4,3,5,6,7,8,5,6]\n",
    "\n",
    "dtw_functions.dtw(x, y, local_dissimilarity=d.euclidean, get_visualization=True)"
   ]
  },
  {
   "cell_type": "code",
   "execution_count": null,
   "id": "fbd840b5",
   "metadata": {
    "scrolled": false
   },
   "outputs": [],
   "source": [
    "from dtwParallel import dtw_functions\n",
    "from scipy.spatial import distance as d\n",
    "\n",
    "# For Univariate Time Series\n",
    "x = [4,2,8,4,5,1,3,5,2,5,7,8,4,5,6,7]\n",
    "y = [0,1,0,8,9,1,3,2,4,3,5,6,7,8,5,6]\n",
    "\n",
    "dtw_functions.dtw(x, y, constrained_path_search=\"itakura\",local_dissimilarity=d.euclidean, get_visualization=True)"
   ]
  },
  {
   "cell_type": "code",
   "execution_count": null,
   "id": "cf63a59c",
   "metadata": {
    "scrolled": false
   },
   "outputs": [],
   "source": [
    "from dtwParallel import dtw_functions\n",
    "from scipy.spatial import distance as d\n",
    "\n",
    "# For Univariate Time Series\n",
    "x = [4,2,8,4,5,1,3,5,2,5,7,8,4,5,6,7]\n",
    "y = [0,1,0,8,9,1,3,2,4,3,5,6,7,8,5,6]\n",
    "\n",
    "dtw_functions.dtw(x, y, constrained_path_search=\"sakoe_chiba\",local_dissimilarity=d.euclidean, get_visualization=True)"
   ]
  },
  {
   "cell_type": "code",
   "execution_count": null,
   "id": "50fee077",
   "metadata": {
    "scrolled": false
   },
   "outputs": [],
   "source": [
    "from dtwParallel import dtw_functions\n",
    "from scipy.spatial import distance as d\n",
    "\n",
    "# For Univariate Time Series\n",
    "x = [4,2,8,4,5,1,3,5,2,5,7,8,4,5,6,7]\n",
    "y = [0,1,0,8,9,1,3,2,4,3,5]\n",
    "\n",
    "dtw_functions.dtw(x, y, local_dissimilarity=d.euclidean, get_visualization=True)"
   ]
  },
  {
   "cell_type": "markdown",
   "id": "9cae0e13",
   "metadata": {},
   "source": [
    "# Example 4"
   ]
  },
  {
   "cell_type": "code",
   "execution_count": null,
   "id": "3ce9a33a",
   "metadata": {},
   "outputs": [],
   "source": [
    "from dtwParallel import dtw_functions\n",
    "from scipy.spatial import distance as d\n",
    "import numpy as np\n",
    "\n",
    "X = np.array([[3,5,8], \n",
    "            [5, 1,9]])\n",
    "\n",
    "Y = np.array([[2, 0,8],\n",
    "            [4, 3,8]])\n",
    "\n",
    "dtw_functions.dtw(X, Y, type_dtw=\"d\", local_dissimilarity=d.euclidean, MTS=True)"
   ]
  },
  {
   "cell_type": "markdown",
   "id": "c0fabfc6",
   "metadata": {},
   "source": [
    "# Example 5"
   ]
  },
  {
   "cell_type": "code",
   "execution_count": null,
   "id": "7c32ee04",
   "metadata": {},
   "outputs": [],
   "source": [
    "from dtwParallel import dtw_functions\n",
    "from scipy.spatial import distance as d\n",
    "import numpy as np\n",
    "\n",
    "X = np.array([[3, 5, 8], \n",
    "              [5, 1, 9],\n",
    "              [0, 1, 1], \n",
    "              [1, 4, 2]])\n",
    "\n",
    "Y = np.array([[2, 0,8],\n",
    "            [4, 3,8]])\n",
    "\n",
    "dtw_functions.dtw(X, Y, type_dtw=\"d\", local_dissimilarity=d.euclidean, MTS=True)"
   ]
  },
  {
   "cell_type": "markdown",
   "id": "4829a4d9",
   "metadata": {},
   "source": [
    "# Example 6"
   ]
  },
  {
   "cell_type": "code",
   "execution_count": null,
   "id": "b6983a72",
   "metadata": {},
   "outputs": [],
   "source": [
    "from dtwParallel import dtw_functions\n",
    "from scipy.spatial import distance as d\n",
    "import numpy as np\n",
    "\n",
    "X = np.array([[3, 5, 8], \n",
    "              [0, 1, 3],\n",
    "              [1, 2, 3]])\n",
    "\n",
    "Y = np.array([[2, 0, 8],\n",
    "              [1, 3, 8],\n",
    "              [4, 8, 12]])\n",
    "\n",
    "d = dtw_functions.dtw(X, Y, local_dissimilarity=d.euclidean, MTS=True, get_visualization=True)\n",
    "print(d)"
   ]
  },
  {
   "cell_type": "markdown",
   "id": "6861737b",
   "metadata": {},
   "source": [
    "## Visualization for MTS with independent DTW distance calculation. "
   ]
  },
  {
   "cell_type": "code",
   "execution_count": null,
   "id": "4970b3b2",
   "metadata": {
    "scrolled": true
   },
   "outputs": [],
   "source": [
    "from dtwParallel import dtw_functions\n",
    "from scipy.spatial import distance as d\n",
    "\n",
    "X = np.array([[3, 5, 8], \n",
    "              [0, 1, 3],\n",
    "              [1, 2, 3]])\n",
    "\n",
    "Y = np.array([[2, 0, 8],\n",
    "              [1, 3, 8],\n",
    "              [4, 8, 12]])\n",
    "\n",
    "d = dtw_functions.dtw(X, Y,  MTS=True, type_dtw=\"i\", get_visualization=True)"
   ]
  },
  {
   "cell_type": "markdown",
   "id": "ef4aa622",
   "metadata": {},
   "source": [
    "# Example 7"
   ]
  },
  {
   "cell_type": "code",
   "execution_count": null,
   "id": "c0121411",
   "metadata": {},
   "outputs": [],
   "source": [
    "import numpy as np\n",
    "from dtwParallel import dtw_functions as dtw\n",
    "\n",
    "x = np.load('../../Data/E0/X_train.npy')\n",
    "y = np.load('../../Data/E0/X_test.npy')\n",
    "\n",
    "class Input:\n",
    "    def __init__(self):\n",
    "        self.check_errors = False \n",
    "        self.type_dtw = \"d\"\n",
    "        self.constrained_path_search = None\n",
    "        self.MTS = True\n",
    "        self.regular_flag = False\n",
    "        self.n_threads = -1\n",
    "        self.local_dissimilarity = \"gower\"\n",
    "        self.visualization = False\n",
    "        self.output_file = True\n",
    "        self.dtw_to_kernel = False\n",
    "        self.sigma_kernel = 1\n",
    "        self.itakura_max_slope = None\n",
    "        self.sakoe_chiba_radius = None\n",
    "\n",
    "input_obj = Input()\n",
    "# API call. \n",
    "dtw_functions.dtw_tensor_3d(x, y, input_obj)"
   ]
  },
  {
   "cell_type": "code",
   "execution_count": null,
   "id": "11853233",
   "metadata": {},
   "outputs": [],
   "source": [
    "import numpy as np\n",
    "from dtwParallel import dtw_functions as dtw\n",
    "\n",
    "x = np.load('../../Data/E0/X_train.npy')\n",
    "y = np.load('../../Data/E0/X_test.npy')\n",
    "\n",
    "class Input:\n",
    "    def __init__(self):\n",
    "        self.check_errors = False \n",
    "        self.type_dtw = \"i\"\n",
    "        self.constrained_path_search = None\n",
    "        self.MTS = True\n",
    "        self.regular_flag = False\n",
    "        self.n_threads = -1\n",
    "        self.local_dissimilarity = \"gower\"\n",
    "        self.visualization = False\n",
    "        self.output_file = True\n",
    "        self.dtw_to_kernel = False\n",
    "        self.sigma_kernel = 1\n",
    "        self.itakura_max_slope = None\n",
    "        self.sakoe_chiba_radius = None\n",
    "\n",
    "input_obj = Input()\n",
    "# API call. \n",
    "dtw_functions.dtw_tensor_3d(x, y, input_obj)"
   ]
  },
  {
   "cell_type": "code",
   "execution_count": null,
   "id": "7069d425",
   "metadata": {},
   "outputs": [],
   "source": [
    "import numpy as np\n",
    "from dtwParallel import dtw_functions as dtw\n",
    "\n",
    "x = np.load('../../Data/E0/X_train.npy')\n",
    "y = np.load('../../Data/E0/X_test.npy')\n",
    "\n",
    "class Input:\n",
    "    def __init__(self):\n",
    "        self.check_errors = False \n",
    "        self.type_dtw = \"d\"\n",
    "        self.constrained_path_search = None\n",
    "        self.MTS = True\n",
    "        self.regular_flag = False\n",
    "        self.n_threads = -1\n",
    "        self.local_dissimilarity = \"norm2\"\n",
    "        self.visualization = False\n",
    "        self.output_file = True\n",
    "        self.dtw_to_kernel = False\n",
    "        self.sigma_kernel = 1\n",
    "        self.itakura_max_slope = None\n",
    "        self.sakoe_chiba_radius = None\n",
    "\n",
    "input_obj = Input()\n",
    "# API call. \n",
    "dtw_functions.dtw_tensor_3d(x, y, input_obj)"
   ]
  },
  {
   "cell_type": "code",
   "execution_count": null,
   "id": "5e6535e8",
   "metadata": {},
   "outputs": [],
   "source": [
    "import numpy as np\n",
    "from dtwParallel import dtw_functions as dtw\n",
    "\n",
    "x = np.load('../../Data/E0/X_train.npy')\n",
    "y = np.load('../../Data/E0/X_test.npy')\n",
    "\n",
    "class Input:\n",
    "    def __init__(self):\n",
    "        self.check_errors = False \n",
    "        self.type_dtw = \"d\"\n",
    "        self.constrained_path_search = \"itakura\"\n",
    "        self.MTS = True\n",
    "        self.regular_flag = False\n",
    "        self.n_threads = -1\n",
    "        self.local_dissimilarity = \"square_euclidean_distance\"\n",
    "        self.visualization = False\n",
    "        self.output_file = True\n",
    "        self.dtw_to_kernel = False\n",
    "        self.sigma_kernel = 1\n",
    "        self.itakura_max_slope = None\n",
    "        self.sakoe_chiba_radius = None\n",
    "\n",
    "input_obj = Input()\n",
    "# API call. \n",
    "dtw_functions.dtw_tensor_3d(x, y, input_obj)"
   ]
  },
  {
   "cell_type": "markdown",
   "id": "a76342fe",
   "metadata": {},
   "source": [
    "## Examples paper"
   ]
  },
  {
   "cell_type": "markdown",
   "id": "f6814161",
   "metadata": {},
   "source": [
    "### # E1"
   ]
  },
  {
   "cell_type": "code",
   "execution_count": null,
   "id": "5c87f07d",
   "metadata": {
    "scrolled": false
   },
   "outputs": [],
   "source": [
    "from dtwParallel import dtw_functions\n",
    "from scipy.spatial import distance \n",
    "import numpy as np\n",
    "\n",
    "x = [2.5, 4.3, 6.6, 8.0, 1, 0, 0, 1, 5.5, 15.2]\n",
    "y = [12.1, 0, 0, 1, 1, 6.4, 3.5, 1, 0, 0]\n",
    "\n",
    "dtw_distance = dtw_functions.dtw(x, y, local_dissimilarity=distance.euclidean, check_errors=True)\n",
    "print(\"DTW distance: \", np.round(dtw_distance,4))\n",
    "\n",
    "dtw_distance = dtw_functions.dtw(x, y, local_dissimilarity=distance.canberra)\n",
    "print(\"DTW distance: \", np.round(dtw_distance,4))\n",
    "\n",
    "dtw_distance = dtw_functions.dtw(x, y, local_dissimilarity=distance.euclidean, get_visualization=True)\n",
    "print(\"DTW distance: \", np.round(dtw_distance,4))"
   ]
  },
  {
   "cell_type": "markdown",
   "id": "eb1bf5eb",
   "metadata": {},
   "source": [
    "### # E2"
   ]
  },
  {
   "cell_type": "code",
   "execution_count": null,
   "id": "49776da3",
   "metadata": {},
   "outputs": [],
   "source": [
    "from dtwParallel import dtw_functions\n",
    "import numpy as np\n",
    "\n",
    "X = np.array([\n",
    "              [3.3, 1, 1.75], \n",
    "              [5.1, 1, 3.42],\n",
    "              [1.5, 0, 0.55],\n",
    "              [2.0, 1, 0.85],\n",
    "              [1.2, 0, 2.25],\n",
    "            ])\n",
    "\n",
    "Y = np.array([ \n",
    "              [1.3, 1, 0.25], \n",
    "              [4.1, 1, 1.42],\n",
    "              [2.5, 1, 4.55],\n",
    "              [3.0, 1, 2.85],\n",
    "              [0.2, 0, 3.25],\n",
    "             ])\n",
    "\n",
    "dtw_distance = dtw_functions.dtw(X, Y, \"i\", local_dissimilarity=\"gower\", MTS=True)\n",
    "print(\"DTW distance: \", np.round(dtw_distance, 4))"
   ]
  },
  {
   "cell_type": "markdown",
   "id": "e5f40524",
   "metadata": {},
   "source": [
    "## Examples of DTW distance calculation for N UTS"
   ]
  },
  {
   "cell_type": "code",
   "execution_count": null,
   "id": "d69f864b",
   "metadata": {},
   "outputs": [],
   "source": [
    "import pandas as pd\n",
    "\n",
    "A = [[1, 4, 5, 12], \n",
    "    [-5, 8, 9, 0],\n",
    "    [-6, 7, 11, 19]]\n",
    "\n",
    "B = [[1, 0, 5, 12], \n",
    "    [5, 1, 9, 0],\n",
    "    [6, 7, 1, 10]]\n",
    "\n",
    "df = pd.DataFrame(A)\n",
    "df.to_csv('../../Data/E1_SyntheticData/data_A.csv', index=False)\n",
    "\n",
    "df = pd.DataFrame(B)\n",
    "df.to_csv('../../Data/E1_SyntheticData/data_B.csv', index=False)"
   ]
  },
  {
   "cell_type": "markdown",
   "id": "6879b33f",
   "metadata": {},
   "source": [
    "### # E3.1"
   ]
  },
  {
   "cell_type": "code",
   "execution_count": null,
   "id": "dd038e2a",
   "metadata": {},
   "outputs": [],
   "source": [
    "from dtwParallel import dtw_functions\n",
    "import pandas as pd\n",
    "\n",
    "data_A = pd.read_csv(\"../../Data/E1_SyntheticData/data_A.csv\")\n",
    "data_B = pd.read_csv(\"../../Data/E1_SyntheticData/data_B.csv\")\n",
    "\n",
    "dtw_distance = dtw_functions.dtw(data_A, data_B, n_threads=9)\n",
    "print(\"DTW distance:\\n\", dtw_distance)"
   ]
  },
  {
   "cell_type": "markdown",
   "id": "45efeb53",
   "metadata": {},
   "source": [
    "### # E3.2"
   ]
  },
  {
   "cell_type": "code",
   "execution_count": null,
   "id": "a1bbca92",
   "metadata": {},
   "outputs": [],
   "source": [
    "from dtwParallel import dtw_functions\n",
    "import pandas as pd\n",
    "\n",
    "data_A = pd.read_csv(\"../../Data/E1_SyntheticData/data_A.csv\")\n",
    "\n",
    "dtw_distance, Kernel_matrix = dtw_functions.dtw(data_A, n_threads=3, dtw_to_kernel=True, sigma_kernel=1.75)\n",
    "print(\"DTW distance:\\n\", dtw_distance, \"\\n\\nKernel matrix:\\n\", Kernel_matrix)"
   ]
  },
  {
   "cell_type": "markdown",
   "id": "555a9793",
   "metadata": {},
   "source": [
    "### # E4"
   ]
  },
  {
   "cell_type": "code",
   "execution_count": null,
   "id": "3e2ef096",
   "metadata": {},
   "outputs": [],
   "source": [
    "import numpy as np\n",
    "from dtwParallel import dtw_functions as dtw\n",
    "\n",
    "class Input:\n",
    "    def __init__(self):\n",
    "        self.check_errors = False \n",
    "        self.type_dtw = \"d\"\n",
    "        self.constrained_path_search = None\n",
    "        self.MTS = True\n",
    "        self.regular_flag = False\n",
    "        self.n_threads = 4\n",
    "        self.local_dissimilarity = \"norm2\"\n",
    "        self.visualization = False\n",
    "        self.output_file = True\n",
    "        self.dtw_to_kernel = False\n",
    "        self.sigma_kernel = 1\n",
    "        self.itakura_max_slope = None\n",
    "        self.sakoe_chiba_radius = None\n",
    "        \n",
    "X = np.load('../../Data/E2_FinanceData/FinanceData_20Days.npy', allow_pickle=True)\n",
    "Y = X.copy()\n",
    "\n",
    "input_obj = Input()\n",
    "# API call. \n",
    "distance_matrix = dtw_functions.dtw_tensor_3d(X, Y, input_obj)\n",
    "print(\"Dimensions:\", distance_matrix.shape, \"\\n\")\n",
    "print(distance_matrix)"
   ]
  },
  {
   "cell_type": "markdown",
   "id": "1c860b55",
   "metadata": {},
   "source": [
    "## Examples/Implementations R-2"
   ]
  },
  {
   "cell_type": "code",
   "execution_count": null,
   "id": "b50712bd",
   "metadata": {},
   "outputs": [],
   "source": [
    "import pandas as pd\n",
    "import numpy as np\n",
    "from dtwParallel import dtw_functions \n",
    "from scipy.spatial import distance as d"
   ]
  },
  {
   "cell_type": "code",
   "execution_count": null,
   "id": "eff5b720",
   "metadata": {},
   "outputs": [],
   "source": [
    "import pandas as pd\n",
    "import numpy as np\n",
    "from dtwParallel import dtw_functions \n",
    "from scipy.spatial import distance as d\n",
    "\n",
    "# Use of np.array as entry data\n",
    "x = [2,  4, 6, 8, 1, 0, 0, 1, 5, 15]\n",
    "y = [12, 0, 0, 1, 1, 6, 3, 1, 0, 0]\n",
    "\n",
    "dtw_functions.dtw(x,y,local_dissimilarity=d.euclidean)"
   ]
  },
  {
   "cell_type": "code",
   "execution_count": null,
   "id": "c6c11065",
   "metadata": {},
   "outputs": [],
   "source": [
    "import pandas as pd\n",
    "import numpy as np\n",
    "from dtwParallel import dtw_functions \n",
    "\n",
    "# Use of dataframes with 1D (UTS) as entry data\n",
    "x = pd.DataFrame(np.random.randint(0,10, size=(1,8)))\n",
    "y = pd.DataFrame(np.random.randint(0,10, size=(1,8)))\n",
    "\n",
    "dtw_functions.dtw(x, y, n_threads=8)"
   ]
  },
  {
   "cell_type": "code",
   "execution_count": null,
   "id": "ddf5e624",
   "metadata": {},
   "outputs": [],
   "source": [
    "import pandas as pd\n",
    "import numpy as np\n",
    "from dtwParallel import dtw_functions \n",
    "\n",
    "# Use of pd.Series as entry data\n",
    "x = pd.Series(np.random.randn(10))\n",
    "y = pd.Series(np.random.randn(10))\n",
    "\n",
    "dtw_functions.dtw(x,y,local_dissimilarity=\"norm2\")"
   ]
  },
  {
   "cell_type": "code",
   "execution_count": null,
   "id": "4be643d4",
   "metadata": {},
   "outputs": [],
   "source": [
    "import pandas as pd\n",
    "import numpy as np\n",
    "from dtwParallel import dtw_functions \n",
    "\n",
    "# Use of dataframes with 2 UTS as entry data\n",
    "x = pd.DataFrame([np.random.randn(10), np.random.randn(10)])\n",
    "y = pd.DataFrame([np.random.randn(10), np.random.randn(10)])\n",
    "dtw_functions.dtw(x, y, MTS=False, n_threads=8)"
   ]
  },
  {
   "cell_type": "code",
   "execution_count": null,
   "id": "e6ede066",
   "metadata": {},
   "outputs": [],
   "source": [
    "import pandas as pd\n",
    "import numpy as np\n",
    "from dtwParallel import dtw_functions \n",
    "\n",
    "# Use of dataframes with 2 UTS as entry data\n",
    "x = pd.DataFrame([np.random.randn(10), np.random.randn(10)])\n",
    "y = pd.DataFrame([np.random.randn(10), np.random.randn(10)])\n",
    "dtw_functions.dtw(x, y, MTS=True, n_threads=8)"
   ]
  },
  {
   "cell_type": "code",
   "execution_count": null,
   "id": "b6d491a1",
   "metadata": {
    "scrolled": true
   },
   "outputs": [],
   "source": [
    "import pandas as pd\n",
    "import numpy as np\n",
    "from dtwParallel import dtw_functions \n",
    "\n",
    "# Use of dataframes with 1D (UTS) as entry data\n",
    "x = pd.DataFrame(np.random.randn(10)).T\n",
    "y = pd.DataFrame(np.random.randn(10)).T\n",
    "\n",
    "dtw_functions.dtw(x,y,n_threads=8)"
   ]
  },
  {
   "cell_type": "markdown",
   "id": "4f2c00aa",
   "metadata": {},
   "source": [
    "## R-3"
   ]
  },
  {
   "cell_type": "code",
   "execution_count": null,
   "id": "a4a7f5a6",
   "metadata": {
    "scrolled": false
   },
   "outputs": [],
   "source": [
    "import pandas as pd\n",
    "import numpy as np\n",
    "from dtwParallel import dtw_functions \n",
    "from scipy.spatial import distance as d\n",
    "\n",
    "class Input:\n",
    "    def __init__(self):\n",
    "        self.check_errors = False \n",
    "        self.type_dtw = \"i\"\n",
    "        self.MTS = True\n",
    "        self.regular_flag = 666\n",
    "        self.n_threads = 2\n",
    "        self.distance = d.euclidean\n",
    "        self.visualization = False\n",
    "        self.output_file = False\n",
    "        self.DTW_to_kernel = False\n",
    "        self.sigma = 1\n",
    "        self.itakura_max_slope = None\n",
    "        self.sakoe_chiba_radius = None\n",
    "        \n",
    "        \n",
    "x_aux = np.load('X_s1.npy', allow_pickle=True)\n",
    "x = x_aux[0:3]\n",
    "y = x_aux[0:3]\n",
    "\n",
    "print(x.shape)\n",
    "print(y.shape)\n",
    "\n",
    "\n",
    "input_obj = Input()\n",
    "dtw_functions.dtw_tensor_3d(x, y, input_obj)"
   ]
  }
 ],
 "metadata": {
  "kernelspec": {
   "display_name": "Python 3",
   "language": "python",
   "name": "python3"
  },
  "language_info": {
   "codemirror_mode": {
    "name": "ipython",
    "version": 3
   },
   "file_extension": ".py",
   "mimetype": "text/x-python",
   "name": "python",
   "nbconvert_exporter": "python",
   "pygments_lexer": "ipython3",
   "version": "3.11.9"
  }
 },
 "nbformat": 4,
 "nbformat_minor": 5
}
